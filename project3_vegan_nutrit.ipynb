{
 "cells": [
  {
   "cell_type": "markdown",
   "metadata": {},
   "source": [
    "# Project 3 Intro\n",
    "#### Author: Boom D. (DSI-NYC), Mahdi Shadkam-Farrokhi (DSI-NYC)"
   ]
  },
  {
   "cell_type": "markdown",
   "metadata": {},
   "source": [
    "### Terminology\n",
    "\n",
    "**API** (\"Application Programming Interface\"): general set of tools for building software applications.\n",
    "\n",
    "**Web APIs**: a special class of APIs provided by a website (e.g. Facebook API, Instagram API) that typically require you to go through a series of permission checks to generate an API key. Can use to help us extract data from a particular website\n",
    "\n",
    "**Web Scraping**: is the process of parsing unstructured HTML to a structured format (Python lists and dictionaries) and leverages some sort of Web API behind the scenes."
   ]
  },
  {
   "cell_type": "markdown",
   "metadata": {},
   "source": [
    "### Case Study: Using `requests` to scrape"
   ]
  },
  {
   "cell_type": "markdown",
   "metadata": {},
   "source": [
    "#### Load Libraries"
   ]
  },
  {
   "cell_type": "code",
   "execution_count": 1,
   "metadata": {},
   "outputs": [],
   "source": [
    "import pandas as pd\n",
    "import numpy as np\n",
    "import datetime as dt\n",
    "import time\n",
    "import requests\n",
    "import json\n",
    "from time import sleep\n",
    "import matplotlib.pyplot as plt\n",
    "\n",
    "from sklearn.feature_extraction.text import CountVectorizer, TfidfVectorizer, ENGLISH_STOP_WORDS\n",
    "from sklearn.linear_model import LogisticRegression\n",
    "from sklearn.naive_bayes import MultinomialNB\n",
    "from sklearn.model_selection import GridSearchCV\n",
    "from sklearn.pipeline import Pipeline\n",
    "from sklearn.model_selection import train_test_split, cross_val_score\n",
    "from sklearn.metrics import confusion_matrix, classification_report, accuracy_score\n",
    "from sklearn.ensemble import RandomForestClassifier"
   ]
  },
  {
   "cell_type": "markdown",
   "metadata": {},
   "source": [
    "# Load Data"
   ]
  },
  {
   "cell_type": "code",
   "execution_count": 2,
   "metadata": {},
   "outputs": [],
   "source": [
    "df = pd.read_csv('./data/p3_vegan_nutrit.csv')"
   ]
  },
  {
   "cell_type": "code",
   "execution_count": 3,
   "metadata": {},
   "outputs": [
    {
     "data": {
      "text/html": [
       "<div>\n",
       "<style scoped>\n",
       "    .dataframe tbody tr th:only-of-type {\n",
       "        vertical-align: middle;\n",
       "    }\n",
       "\n",
       "    .dataframe tbody tr th {\n",
       "        vertical-align: top;\n",
       "    }\n",
       "\n",
       "    .dataframe thead th {\n",
       "        text-align: right;\n",
       "    }\n",
       "</style>\n",
       "<table border=\"1\" class=\"dataframe\">\n",
       "  <thead>\n",
       "    <tr style=\"text-align: right;\">\n",
       "      <th></th>\n",
       "      <th>Unnamed: 0</th>\n",
       "      <th>text</th>\n",
       "      <th>target</th>\n",
       "    </tr>\n",
       "  </thead>\n",
       "  <tbody>\n",
       "    <tr>\n",
       "      <th>0</th>\n",
       "      <td>0</td>\n",
       "      <td>I gifted SIL an instant pot and would like to ...</td>\n",
       "      <td>vegan</td>\n",
       "    </tr>\n",
       "    <tr>\n",
       "      <th>1</th>\n",
       "      <td>1</td>\n",
       "      <td>Are there any recommendations? I tried natural...</td>\n",
       "      <td>vegan</td>\n",
       "    </tr>\n",
       "    <tr>\n",
       "      <th>2</th>\n",
       "      <td>2</td>\n",
       "      <td>In the US, one survey of 11,000 people found t...</td>\n",
       "      <td>vegan</td>\n",
       "    </tr>\n",
       "    <tr>\n",
       "      <th>3</th>\n",
       "      <td>3</td>\n",
       "      <td>And when I say remove I mean remove, help them...</td>\n",
       "      <td>vegan</td>\n",
       "    </tr>\n",
       "    <tr>\n",
       "      <th>4</th>\n",
       "      <td>4</td>\n",
       "      <td>[removed]</td>\n",
       "      <td>vegan</td>\n",
       "    </tr>\n",
       "  </tbody>\n",
       "</table>\n",
       "</div>"
      ],
      "text/plain": [
       "   Unnamed: 0                                               text target\n",
       "0           0  I gifted SIL an instant pot and would like to ...  vegan\n",
       "1           1  Are there any recommendations? I tried natural...  vegan\n",
       "2           2  In the US, one survey of 11,000 people found t...  vegan\n",
       "3           3  And when I say remove I mean remove, help them...  vegan\n",
       "4           4                                          [removed]  vegan"
      ]
     },
     "execution_count": 3,
     "metadata": {},
     "output_type": "execute_result"
    }
   ],
   "source": [
    "df.head()"
   ]
  },
  {
   "cell_type": "code",
   "execution_count": 4,
   "metadata": {},
   "outputs": [],
   "source": [
    "df.drop(columns = 'Unnamed: 0', inplace = True)"
   ]
  },
  {
   "cell_type": "code",
   "execution_count": 5,
   "metadata": {},
   "outputs": [
    {
     "data": {
      "text/html": [
       "<div>\n",
       "<style scoped>\n",
       "    .dataframe tbody tr th:only-of-type {\n",
       "        vertical-align: middle;\n",
       "    }\n",
       "\n",
       "    .dataframe tbody tr th {\n",
       "        vertical-align: top;\n",
       "    }\n",
       "\n",
       "    .dataframe thead th {\n",
       "        text-align: right;\n",
       "    }\n",
       "</style>\n",
       "<table border=\"1\" class=\"dataframe\">\n",
       "  <thead>\n",
       "    <tr style=\"text-align: right;\">\n",
       "      <th></th>\n",
       "      <th>text</th>\n",
       "      <th>target</th>\n",
       "    </tr>\n",
       "  </thead>\n",
       "  <tbody>\n",
       "    <tr>\n",
       "      <th>0</th>\n",
       "      <td>I gifted SIL an instant pot and would like to ...</td>\n",
       "      <td>vegan</td>\n",
       "    </tr>\n",
       "    <tr>\n",
       "      <th>1</th>\n",
       "      <td>Are there any recommendations? I tried natural...</td>\n",
       "      <td>vegan</td>\n",
       "    </tr>\n",
       "    <tr>\n",
       "      <th>2</th>\n",
       "      <td>In the US, one survey of 11,000 people found t...</td>\n",
       "      <td>vegan</td>\n",
       "    </tr>\n",
       "    <tr>\n",
       "      <th>3</th>\n",
       "      <td>And when I say remove I mean remove, help them...</td>\n",
       "      <td>vegan</td>\n",
       "    </tr>\n",
       "    <tr>\n",
       "      <th>4</th>\n",
       "      <td>[removed]</td>\n",
       "      <td>vegan</td>\n",
       "    </tr>\n",
       "  </tbody>\n",
       "</table>\n",
       "</div>"
      ],
      "text/plain": [
       "                                                text target\n",
       "0  I gifted SIL an instant pot and would like to ...  vegan\n",
       "1  Are there any recommendations? I tried natural...  vegan\n",
       "2  In the US, one survey of 11,000 people found t...  vegan\n",
       "3  And when I say remove I mean remove, help them...  vegan\n",
       "4                                          [removed]  vegan"
      ]
     },
     "execution_count": 5,
     "metadata": {},
     "output_type": "execute_result"
    }
   ],
   "source": [
    "df.head()"
   ]
  },
  {
   "cell_type": "code",
   "execution_count": 6,
   "metadata": {},
   "outputs": [
    {
     "data": {
      "text/plain": [
       "(17266, 2)"
      ]
     },
     "execution_count": 6,
     "metadata": {},
     "output_type": "execute_result"
    }
   ],
   "source": [
    "df.shape"
   ]
  },
  {
   "cell_type": "code",
   "execution_count": 7,
   "metadata": {},
   "outputs": [
    {
     "data": {
      "text/html": [
       "<div>\n",
       "<style scoped>\n",
       "    .dataframe tbody tr th:only-of-type {\n",
       "        vertical-align: middle;\n",
       "    }\n",
       "\n",
       "    .dataframe tbody tr th {\n",
       "        vertical-align: top;\n",
       "    }\n",
       "\n",
       "    .dataframe thead tr th {\n",
       "        text-align: left;\n",
       "    }\n",
       "\n",
       "    .dataframe thead tr:last-of-type th {\n",
       "        text-align: right;\n",
       "    }\n",
       "</style>\n",
       "<table border=\"1\" class=\"dataframe\">\n",
       "  <thead>\n",
       "    <tr>\n",
       "      <th></th>\n",
       "      <th colspan=\"4\" halign=\"left\">text</th>\n",
       "    </tr>\n",
       "    <tr>\n",
       "      <th></th>\n",
       "      <th>count</th>\n",
       "      <th>unique</th>\n",
       "      <th>top</th>\n",
       "      <th>freq</th>\n",
       "    </tr>\n",
       "    <tr>\n",
       "      <th>target</th>\n",
       "      <th></th>\n",
       "      <th></th>\n",
       "      <th></th>\n",
       "      <th></th>\n",
       "    </tr>\n",
       "  </thead>\n",
       "  <tbody>\n",
       "    <tr>\n",
       "      <th>nutrition</th>\n",
       "      <td>12098</td>\n",
       "      <td>2070</td>\n",
       "      <td>[removed]</td>\n",
       "      <td>6468</td>\n",
       "    </tr>\n",
       "    <tr>\n",
       "      <th>vegan</th>\n",
       "      <td>5168</td>\n",
       "      <td>2818</td>\n",
       "      <td>[removed]</td>\n",
       "      <td>1532</td>\n",
       "    </tr>\n",
       "  </tbody>\n",
       "</table>\n",
       "</div>"
      ],
      "text/plain": [
       "            text                        \n",
       "           count unique        top  freq\n",
       "target                                  \n",
       "nutrition  12098   2070  [removed]  6468\n",
       "vegan       5168   2818  [removed]  1532"
      ]
     },
     "execution_count": 7,
     "metadata": {},
     "output_type": "execute_result"
    }
   ],
   "source": [
    "df.groupby('target').describe()"
   ]
  },
  {
   "cell_type": "code",
   "execution_count": 8,
   "metadata": {},
   "outputs": [
    {
     "name": "stdout",
     "output_type": "stream",
     "text": [
      "<class 'pandas.core.frame.DataFrame'>\n",
      "RangeIndex: 17266 entries, 0 to 17265\n",
      "Data columns (total 2 columns):\n",
      " #   Column  Non-Null Count  Dtype \n",
      "---  ------  --------------  ----- \n",
      " 0   text    17266 non-null  object\n",
      " 1   target  17266 non-null  object\n",
      "dtypes: object(2)\n",
      "memory usage: 269.9+ KB\n"
     ]
    }
   ],
   "source": [
    "df.info()"
   ]
  },
  {
   "cell_type": "markdown",
   "metadata": {},
   "source": [
    "# EDA"
   ]
  },
  {
   "cell_type": "code",
   "execution_count": 9,
   "metadata": {},
   "outputs": [
    {
     "data": {
      "text/plain": [
       "nutrition    0.700683\n",
       "vegan        0.299317\n",
       "Name: target, dtype: float64"
      ]
     },
     "execution_count": 9,
     "metadata": {},
     "output_type": "execute_result"
    }
   ],
   "source": [
    "# check the baseline accuracy\n",
    "df['target'].value_counts(normalize = True)"
   ]
  },
  {
   "cell_type": "code",
   "execution_count": 10,
   "metadata": {
    "scrolled": true
   },
   "outputs": [
    {
     "data": {
      "text/html": [
       "<div>\n",
       "<style scoped>\n",
       "    .dataframe tbody tr th:only-of-type {\n",
       "        vertical-align: middle;\n",
       "    }\n",
       "\n",
       "    .dataframe tbody tr th {\n",
       "        vertical-align: top;\n",
       "    }\n",
       "\n",
       "    .dataframe thead tr th {\n",
       "        text-align: left;\n",
       "    }\n",
       "\n",
       "    .dataframe thead tr:last-of-type th {\n",
       "        text-align: right;\n",
       "    }\n",
       "</style>\n",
       "<table border=\"1\" class=\"dataframe\">\n",
       "  <thead>\n",
       "    <tr>\n",
       "      <th></th>\n",
       "      <th colspan=\"4\" halign=\"left\">text</th>\n",
       "    </tr>\n",
       "    <tr>\n",
       "      <th></th>\n",
       "      <th>count</th>\n",
       "      <th>unique</th>\n",
       "      <th>top</th>\n",
       "      <th>freq</th>\n",
       "    </tr>\n",
       "    <tr>\n",
       "      <th>target</th>\n",
       "      <th></th>\n",
       "      <th></th>\n",
       "      <th></th>\n",
       "      <th></th>\n",
       "    </tr>\n",
       "  </thead>\n",
       "  <tbody>\n",
       "    <tr>\n",
       "      <th>nutrition</th>\n",
       "      <td>12098</td>\n",
       "      <td>2070</td>\n",
       "      <td>[removed]</td>\n",
       "      <td>6468</td>\n",
       "    </tr>\n",
       "    <tr>\n",
       "      <th>vegan</th>\n",
       "      <td>5168</td>\n",
       "      <td>2818</td>\n",
       "      <td>[removed]</td>\n",
       "      <td>1532</td>\n",
       "    </tr>\n",
       "  </tbody>\n",
       "</table>\n",
       "</div>"
      ],
      "text/plain": [
       "            text                        \n",
       "           count unique        top  freq\n",
       "target                                  \n",
       "nutrition  12098   2070  [removed]  6468\n",
       "vegan       5168   2818  [removed]  1532"
      ]
     },
     "execution_count": 10,
     "metadata": {},
     "output_type": "execute_result"
    }
   ],
   "source": [
    "df.groupby('target').describe()"
   ]
  },
  {
   "cell_type": "code",
   "execution_count": 11,
   "metadata": {},
   "outputs": [],
   "source": [
    "df.loc[df['text']=='[removed]',:].index\n",
    "df.drop(df.loc[df['text']=='[removed]',:].index, inplace = True)"
   ]
  },
  {
   "cell_type": "code",
   "execution_count": 12,
   "metadata": {},
   "outputs": [
    {
     "data": {
      "text/html": [
       "<div>\n",
       "<style scoped>\n",
       "    .dataframe tbody tr th:only-of-type {\n",
       "        vertical-align: middle;\n",
       "    }\n",
       "\n",
       "    .dataframe tbody tr th {\n",
       "        vertical-align: top;\n",
       "    }\n",
       "\n",
       "    .dataframe thead tr th {\n",
       "        text-align: left;\n",
       "    }\n",
       "\n",
       "    .dataframe thead tr:last-of-type th {\n",
       "        text-align: right;\n",
       "    }\n",
       "</style>\n",
       "<table border=\"1\" class=\"dataframe\">\n",
       "  <thead>\n",
       "    <tr>\n",
       "      <th></th>\n",
       "      <th colspan=\"4\" halign=\"left\">text</th>\n",
       "    </tr>\n",
       "    <tr>\n",
       "      <th></th>\n",
       "      <th>count</th>\n",
       "      <th>unique</th>\n",
       "      <th>top</th>\n",
       "      <th>freq</th>\n",
       "    </tr>\n",
       "    <tr>\n",
       "      <th>target</th>\n",
       "      <th></th>\n",
       "      <th></th>\n",
       "      <th></th>\n",
       "      <th></th>\n",
       "    </tr>\n",
       "  </thead>\n",
       "  <tbody>\n",
       "    <tr>\n",
       "      <th>nutrition</th>\n",
       "      <td>5630</td>\n",
       "      <td>2069</td>\n",
       "      <td>[deleted]</td>\n",
       "      <td>67</td>\n",
       "    </tr>\n",
       "    <tr>\n",
       "      <th>vegan</th>\n",
       "      <td>3636</td>\n",
       "      <td>2817</td>\n",
       "      <td>[deleted]</td>\n",
       "      <td>297</td>\n",
       "    </tr>\n",
       "  </tbody>\n",
       "</table>\n",
       "</div>"
      ],
      "text/plain": [
       "           text                       \n",
       "          count unique        top freq\n",
       "target                                \n",
       "nutrition  5630   2069  [deleted]   67\n",
       "vegan      3636   2817  [deleted]  297"
      ]
     },
     "execution_count": 12,
     "metadata": {},
     "output_type": "execute_result"
    }
   ],
   "source": [
    "df.groupby('target').describe()"
   ]
  },
  {
   "cell_type": "code",
   "execution_count": 13,
   "metadata": {},
   "outputs": [],
   "source": [
    "X = df['text']\n",
    "y = df['target']"
   ]
  },
  {
   "cell_type": "code",
   "execution_count": 14,
   "metadata": {},
   "outputs": [],
   "source": [
    "# Split the data into the training and testing sets.\n",
    "X_train, X_test, y_train, y_test = train_test_split(X,\n",
    "                                                    y,\n",
    "                                                    test_size=0.33,\n",
    "                                                    stratify=y,\n",
    "                                                    random_state=42)"
   ]
  },
  {
   "cell_type": "code",
   "execution_count": 53,
   "metadata": {
    "scrolled": true
   },
   "outputs": [
    {
     "data": {
      "image/png": "[encoded data removed]",
      "text/plain": [
       "<Figure size 1296x360 with 1 Axes>"
      ]
     },
     "metadata": {
      "needs_background": "light"
     },
     "output_type": "display_data"
    }
   ],
   "source": [
    "# plotting most repeated words, excluding non-relevant\n",
    "more_stop = ['just', 'com', 'https', 'know', 'want', 'www', 've','x200b', 'really', 'like', 'don', 'does', 'people', 'lot', 'time', 'day', 'eating', 'going', 'need', 'animals'] \n",
    "custom_words = list(ENGLISH_STOP_WORDS) + more_stop\n",
    "\n",
    "\n",
    "\n",
    "cv = CountVectorizer(stop_words = custom_words, max_features = 600) # ngram_range = (1,2) means i want both 1 and 2 words columns\n",
    "sparse_mat = cv.fit_transform(df['text']) #fitting the model\n",
    "\n",
    "all_feature_df = pd.DataFrame(sparse_mat.todense(), columns=cv.get_feature_names()) #attaching column names ie. words\n",
    "all_feature_df['target'] = y\n",
    "all_feature_df.drop(columns = 'target').sum().sort_values(ascending=False).head(20).plot(kind='barh', figsize = (18,5));\n",
    "# remember, these are the lammatized words...\n",
    "\n",
    "common_words_indicies = all_feature_df.sum().sort_values(ascending=False).head(20).index\n",
    "# we need the indices because that's what .loc is looking for (or a boolean mask) when I use it below"
   ]
  },
  {
   "cell_type": "code",
   "execution_count": 16,
   "metadata": {},
   "outputs": [],
   "source": [
    "#custom_words"
   ]
  },
  {
   "cell_type": "markdown",
   "metadata": {},
   "source": [
    "# Most Frequent Words By Topic"
   ]
  },
  {
   "cell_type": "code",
   "execution_count": 17,
   "metadata": {},
   "outputs": [],
   "source": [
    "df_nutrit = all_feature_df.loc[all_feature_df['target'] == 'nutrition', :].copy()\n",
    "df_vegan = all_feature_df.loc[all_feature_df['target'] == 'vegan', :].copy()"
   ]
  },
  {
   "cell_type": "code",
   "execution_count": 18,
   "metadata": {},
   "outputs": [
    {
     "name": "stdout",
     "output_type": "stream",
     "text": [
      "(1873, 601) (3636, 601)\n"
     ]
    }
   ],
   "source": [
    "print(df_nutrit.shape, df_vegan.shape)"
   ]
  },
  {
   "cell_type": "code",
   "execution_count": null,
   "metadata": {},
   "outputs": [],
   "source": []
  },
  {
   "cell_type": "code",
   "execution_count": 19,
   "metadata": {},
   "outputs": [
    {
     "data": {
      "image/png": "[encoded data removed]",
      "text/plain": [
       "<Figure size 720x576 with 2 Axes>"
      ]
     },
     "metadata": {
      "needs_background": "light"
     },
     "output_type": "display_data"
    }
   ],
   "source": [
    "fig, ax = plt.subplots(nrows = 1, ncols = 2, figsize = (10,8), sharex=True) #last argument to set same scale for x\n",
    "\n",
    "df_nutrit.drop(columns = 'target').sum().sort_values().tail(15).plot(kind = 'barh',\n",
    "                                          ax = ax[0], title = 'common words in relation to Nutrition posts'.title());\n",
    "df_vegan.drop(columns = 'target').sum().sort_values().tail(15).plot(kind = 'barh', ax= ax[1], \n",
    "                                        title = 'common words in relation to vegan posts'.title());"
   ]
  },
  {
   "cell_type": "code",
   "execution_count": null,
   "metadata": {},
   "outputs": [],
   "source": []
  },
  {
   "cell_type": "markdown",
   "metadata": {},
   "source": [
    "# Modeling"
   ]
  },
  {
   "cell_type": "code",
   "execution_count": 20,
   "metadata": {},
   "outputs": [],
   "source": [
    "#df['target'] = df['target'].map(lambda x: 1 if x == 'vegan' else 0)"
   ]
  },
  {
   "cell_type": "code",
   "execution_count": 21,
   "metadata": {},
   "outputs": [
    {
     "data": {
      "text/html": [
       "<div>\n",
       "<style scoped>\n",
       "    .dataframe tbody tr th:only-of-type {\n",
       "        vertical-align: middle;\n",
       "    }\n",
       "\n",
       "    .dataframe tbody tr th {\n",
       "        vertical-align: top;\n",
       "    }\n",
       "\n",
       "    .dataframe thead th {\n",
       "        text-align: right;\n",
       "    }\n",
       "</style>\n",
       "<table border=\"1\" class=\"dataframe\">\n",
       "  <thead>\n",
       "    <tr style=\"text-align: right;\">\n",
       "      <th></th>\n",
       "      <th>text</th>\n",
       "      <th>target</th>\n",
       "    </tr>\n",
       "  </thead>\n",
       "  <tbody>\n",
       "    <tr>\n",
       "      <th>0</th>\n",
       "      <td>I gifted SIL an instant pot and would like to ...</td>\n",
       "      <td>vegan</td>\n",
       "    </tr>\n",
       "    <tr>\n",
       "      <th>1</th>\n",
       "      <td>Are there any recommendations? I tried natural...</td>\n",
       "      <td>vegan</td>\n",
       "    </tr>\n",
       "    <tr>\n",
       "      <th>2</th>\n",
       "      <td>In the US, one survey of 11,000 people found t...</td>\n",
       "      <td>vegan</td>\n",
       "    </tr>\n",
       "    <tr>\n",
       "      <th>3</th>\n",
       "      <td>And when I say remove I mean remove, help them...</td>\n",
       "      <td>vegan</td>\n",
       "    </tr>\n",
       "    <tr>\n",
       "      <th>6</th>\n",
       "      <td>Meat</td>\n",
       "      <td>vegan</td>\n",
       "    </tr>\n",
       "  </tbody>\n",
       "</table>\n",
       "</div>"
      ],
      "text/plain": [
       "                                                text target\n",
       "0  I gifted SIL an instant pot and would like to ...  vegan\n",
       "1  Are there any recommendations? I tried natural...  vegan\n",
       "2  In the US, one survey of 11,000 people found t...  vegan\n",
       "3  And when I say remove I mean remove, help them...  vegan\n",
       "6                                               Meat  vegan"
      ]
     },
     "execution_count": 21,
     "metadata": {},
     "output_type": "execute_result"
    }
   ],
   "source": [
    "df.head()"
   ]
  },
  {
   "cell_type": "markdown",
   "metadata": {},
   "source": [
    "# Creating models and Pipes & GridSearching on each & fitting & finding best score:"
   ]
  },
  {
   "cell_type": "code",
   "execution_count": null,
   "metadata": {},
   "outputs": [],
   "source": []
  },
  {
   "cell_type": "code",
   "execution_count": 22,
   "metadata": {},
   "outputs": [
    {
     "name": "stderr",
     "output_type": "stream",
     "text": [
      "C:\\Users\\gc\\anaconda3\\lib\\site-packages\\sklearn\\svm\\_base.py:976: ConvergenceWarning: Liblinear failed to converge, increase the number of iterations.\n",
      "  warnings.warn(\"Liblinear failed to converge, increase \"\n"
     ]
    },
    {
     "data": {
      "text/plain": [
       "GridSearchCV(cv=5,\n",
       "             estimator=Pipeline(steps=[('vector', CountVectorizer()),\n",
       "                                       ('logreg', LogisticRegression())]),\n",
       "             param_grid={'logreg__C': [0.1, 5, 50],\n",
       "                         'logreg__penalty': ['l1', 'l2'],\n",
       "                         'logreg__solver': ['liblinear'],\n",
       "                         'vector__min_df': [3, 4, 8],\n",
       "                         'vector__stop_words': [['during', 'only', 'eg', 'so',\n",
       "                                                 'twenty', 'keep', 'off',\n",
       "                                                 'please', 'except', 'again',\n",
       "                                                 'beside', 'perhaps',\n",
       "                                                 'otherwise', 'she', 'in', 'of',\n",
       "                                                 'besides', 'without', 'move',\n",
       "                                                 'against', 'thin', 'then',\n",
       "                                                 'what', 'seemed', 'had',\n",
       "                                                 'throughout', 'together',\n",
       "                                                 'behind', 'de', 'back', ...],\n",
       "                                                None]})"
      ]
     },
     "execution_count": 22,
     "metadata": {},
     "output_type": "execute_result"
    }
   ],
   "source": [
    "# look for the best score\n",
    "cv_log_pipe = Pipeline([('vector', CountVectorizer()), ('logreg', LogisticRegression())])\n",
    "cv_log_params = {\n",
    "    'logreg__solver': ['liblinear'], \n",
    "    'vector__min_df' : [3,4,8],\n",
    "    'vector__stop_words' : [custom_words, None],\n",
    "    'logreg__penalty' : ['l1', 'l2'],\n",
    "    'logreg__C' : [.1, 5, 50]\n",
    "}\n",
    "cv_log_gs = GridSearchCV(cv_log_pipe, cv_log_params, cv = 5, verbose=0)\n",
    "cv_log_gs.fit(X_train, y_train)"
   ]
  },
  {
   "cell_type": "code",
   "execution_count": 23,
   "metadata": {},
   "outputs": [
    {
     "data": {
      "text/plain": [
       "GridSearchCV(cv=5,\n",
       "             estimator=Pipeline(steps=[('tfdf', TfidfVectorizer()),\n",
       "                                       ('logreg', LogisticRegression())]),\n",
       "             param_grid={'logreg__C': [0.1, 5, 50],\n",
       "                         'logreg__solver': ['liblinear'],\n",
       "                         'tfdf__stop_words': [['during', 'only', 'eg', 'so',\n",
       "                                               'twenty', 'keep', 'off',\n",
       "                                               'please', 'except', 'again',\n",
       "                                               'beside', 'perhaps', 'otherwise',\n",
       "                                               'she', 'in', 'of', 'besides',\n",
       "                                               'without', 'move', 'against',\n",
       "                                               'thin', 'then', 'what', 'seemed',\n",
       "                                               'had', 'throughout', 'together',\n",
       "                                               'behind', 'de', 'back', ...],\n",
       "                                              None]})"
      ]
     },
     "execution_count": 23,
     "metadata": {},
     "output_type": "execute_result"
    }
   ],
   "source": [
    "tf_log_pipe = Pipeline([('tfdf', TfidfVectorizer()),('logreg', LogisticRegression())])\n",
    "tf_log_params = {\n",
    "    'logreg__solver': ['liblinear'], \n",
    "    'tfdf__stop_words' : [custom_words, None],\n",
    "    'logreg__C' : [.1, 5, 50]\n",
    "}\n",
    "tf_log_gs = GridSearchCV(tf_log_pipe, tf_log_params, cv = 5, verbose=0)\n",
    "tf_log_gs.fit(X_train, y_train)"
   ]
  },
  {
   "cell_type": "code",
   "execution_count": 24,
   "metadata": {},
   "outputs": [
    {
     "data": {
      "text/plain": [
       "GridSearchCV(cv=5,\n",
       "             estimator=Pipeline(steps=[('tfdf', TfidfVectorizer()),\n",
       "                                       ('naive', MultinomialNB())]),\n",
       "             param_grid={'naive__alpha': [0.001, 0.01, 0.1, 0.5, 0.8],\n",
       "                         'tfdf__stop_words': [['during', 'only', 'eg', 'so',\n",
       "                                               'twenty', 'keep', 'off',\n",
       "                                               'please', 'except', 'again',\n",
       "                                               'beside', 'perhaps', 'otherwise',\n",
       "                                               'she', 'in', 'of', 'besides',\n",
       "                                               'without', 'move', 'against',\n",
       "                                               'thin', 'then', 'what', 'seemed',\n",
       "                                               'had', 'throughout', 'together',\n",
       "                                               'behind', 'de', 'back', ...],\n",
       "                                              None]})"
      ]
     },
     "execution_count": 24,
     "metadata": {},
     "output_type": "execute_result"
    }
   ],
   "source": [
    "# \n",
    "tf_nb_pipe = Pipeline([('tfdf', TfidfVectorizer()),('naive', MultinomialNB())])\n",
    "tf_nb_params = {\n",
    "    'tfdf__stop_words' : [custom_words, None],\n",
    "    'naive__alpha' : [0.001, 0.01, 0.1, 0.5, 0.8]\n",
    "}\n",
    "tf_nb_gs = GridSearchCV(tf_nb_pipe, tf_nb_params, cv = 5, verbose=0)\n",
    "tf_nb_gs.fit(X_train, y_train)"
   ]
  },
  {
   "cell_type": "code",
   "execution_count": 25,
   "metadata": {},
   "outputs": [],
   "source": [
    "## Random Forest Model\n",
    "cv = CountVectorizer(stop_words = custom_words)\n",
    "X_train_cv = cv.fit_transform(X_train)"
   ]
  },
  {
   "cell_type": "code",
   "execution_count": 26,
   "metadata": {},
   "outputs": [
    {
     "data": {
      "text/plain": [
       "GridSearchCV(cv=5, estimator=RandomForestClassifier(),\n",
       "             param_grid={'max_depth': [10, 20, 30], 'max_features': [0.2, 0.3],\n",
       "                         'n_estimators': [5, 10, 15, 20]})"
      ]
     },
     "execution_count": 26,
     "metadata": {},
     "output_type": "execute_result"
    }
   ],
   "source": [
    "forest = RandomForestClassifier()\n",
    "forest_params = {\n",
    "    'n_estimators' : [5, 10, 15, 20],\n",
    "    'max_depth' : [10, 20, 30],\n",
    "    'max_features' : [.2, .3]\n",
    "}\n",
    "gs_forest = GridSearchCV(forest, param_grid = forest_params, cv = 5)\n",
    "gs_forest.fit(X_train_cv, y_train)"
   ]
  },
  {
   "cell_type": "code",
   "execution_count": 27,
   "metadata": {
    "scrolled": true
   },
   "outputs": [
    {
     "name": "stdout",
     "output_type": "stream",
     "text": [
      "best score of random foresets is:  0.9187\n",
      "best score of CountVectorizer with Logistic Regression is: 0.9352\n",
      "best score of TFDIF with Logistic Regression is: 0.9414\n",
      "best score of TFDIF with naive multinomial Bayes is: 0.9187\n"
     ]
    }
   ],
   "source": [
    "print('best score of random foresets is: ',gs_forest.best_score_.round(4))\n",
    "print('best score of CountVectorizer with Logistic Regression is:', cv_log_gs.best_score_.round(4))\n",
    "#print('best score of CountVectorizer with naive multinomial Bayes is:', cv_nb_gs.best_score_.round(4))\n",
    "print('best score of TFDIF with Logistic Regression is:', tf_log_gs.best_score_.round(4))\n",
    "print('best score of TFDIF with naive multinomial Bayes is:', tf_nb_gs.best_score_.round(4))"
   ]
  },
  {
   "cell_type": "code",
   "execution_count": 28,
   "metadata": {},
   "outputs": [
    {
     "name": "stdout",
     "output_type": "stream",
     "text": [
      "best score of random foresets is:  {'max_depth': 30, 'max_features': 0.2, 'n_estimators': 20}\n"
     ]
    }
   ],
   "source": [
    "print('best score of random foresets is: ',gs_forest.best_params_)"
   ]
  },
  {
   "cell_type": "code",
   "execution_count": 29,
   "metadata": {},
   "outputs": [
    {
     "name": "stdout",
     "output_type": "stream",
     "text": [
      "[('tfdf', TfidfVectorizer()), ('logreg', LogisticRegression(C=50, solver='liblinear'))]\n"
     ]
    }
   ],
   "source": [
    "## the winner is TFDIF with Logistic Regression, so we're gonna fit that one\n",
    "# fininding best estimators of the winning model to use them: \n",
    "print(tf_log_gs.best_estimator_.get_params()['steps'])"
   ]
  },
  {
   "cell_type": "markdown",
   "metadata": {},
   "source": [
    "# This shows overfit.  Try to improve it by hyperparameter"
   ]
  },
  {
   "cell_type": "code",
   "execution_count": 30,
   "metadata": {},
   "outputs": [
    {
     "name": "stdout",
     "output_type": "stream",
     "text": [
      "(6208, 17621)\n"
     ]
    }
   ],
   "source": [
    "# fit the winning model and vectorizer\n",
    "tf = TfidfVectorizer(stop_words = custom_words)\n",
    "\n",
    "X_train_tf = tf.fit_transform(X_train)\n",
    "X_test_tf = tf.transform(X_test)\n",
    "print(X_train_tf.shape)"
   ]
  },
  {
   "cell_type": "code",
   "execution_count": 31,
   "metadata": {},
   "outputs": [],
   "source": [
    "\n",
    "logreg = LogisticRegression(C = 50, penalty = 'l2', solver = 'liblinear') #l2 is Ridge (google: 'l1 ridge or lasso?')\n",
    "logreg.fit(X_train_tf, y_train)\n",
    "preds = logreg.predict(X_test_tf)"
   ]
  },
  {
   "cell_type": "code",
   "execution_count": 32,
   "metadata": {},
   "outputs": [
    {
     "name": "stdout",
     "output_type": "stream",
     "text": [
      "accuracy score of TFDIF and Logistic on testing data:  0.9379\n",
      "cross-validation score is:  0.936\n"
     ]
    }
   ],
   "source": [
    "print('accuracy score of TFDIF and Logistic on testing data: ', logreg.score(X_test_tf, y_test).round(4))\n",
    "print('cross-validation score is: ', \\\n",
    "    cross_val_score(logreg, X_train_tf, y_train, cv = 5).mean().round(4)) \n",
    "#this cross-val score is how we expect the model to perform on unseen data"
   ]
  },
  {
   "cell_type": "code",
   "execution_count": 33,
   "metadata": {},
   "outputs": [
    {
     "name": "stdout",
     "output_type": "stream",
     "text": [
      "on training set, score is:  0.9915\n",
      "on testing set, score is:  0.9408\n"
     ]
    }
   ],
   "source": [
    "# extra making sure it's not overfitting, by scoring it on train and test dataset\n",
    "print('on training set, score is: ', tf_log_gs.score(X_train, y_train).round(4))\n",
    "print('on testing set, score is: ', tf_log_gs.score(X_test, y_test).round(4))"
   ]
  },
  {
   "cell_type": "markdown",
   "metadata": {},
   "source": [
    "# Confusion Matrix and Classification Report"
   ]
  },
  {
   "cell_type": "code",
   "execution_count": 34,
   "metadata": {
    "scrolled": true
   },
   "outputs": [
    {
     "name": "stdout",
     "output_type": "stream",
     "text": [
      "classification report               precision    recall  f1-score   support\n",
      "\n",
      "   nutrition       0.93      0.98      0.95      1858\n",
      "       vegan       0.96      0.88      0.92      1200\n",
      "\n",
      "    accuracy                           0.94      3058\n",
      "   macro avg       0.94      0.93      0.93      3058\n",
      "weighted avg       0.94      0.94      0.94      3058\n",
      "\n"
     ]
    }
   ],
   "source": [
    "confusion_matrix(y_test, preds)\n",
    "print('classification report', classification_report(y_test, preds))"
   ]
  },
  {
   "cell_type": "code",
   "execution_count": 54,
   "metadata": {},
   "outputs": [
    {
     "name": "stdout",
     "output_type": "stream",
     "text": [
      "[[1813   45]\n",
      " [ 145 1055]]\n"
     ]
    }
   ],
   "source": [
    "# Generate confusion matrix.\n",
    "tn, fp, fn, tp = confusion_matrix(y_test, preds).ravel()\n",
    "\n",
    "print(confusion_matrix(y_test, preds))"
   ]
  },
  {
   "cell_type": "code",
   "execution_count": 55,
   "metadata": {},
   "outputs": [
    {
     "name": "stdout",
     "output_type": "stream",
     "text": [
      "Sensitivity: 0.8792\n"
     ]
    }
   ],
   "source": [
    "# Calculate sensitivity.\n",
    "\n",
    "sens = tp / (tp + fn)\n",
    "\n",
    "print(f'Sensitivity: {round(sens, 4)}')"
   ]
  },
  {
   "cell_type": "code",
   "execution_count": 56,
   "metadata": {},
   "outputs": [
    {
     "name": "stdout",
     "output_type": "stream",
     "text": [
      "Specificity: 0.9758\n"
     ]
    }
   ],
   "source": [
    "# Calculate specificity.\n",
    "\n",
    "spec = tn / (tn + fp)\n",
    "\n",
    "print(f'Specificity: {round(spec, 4)}')"
   ]
  },
  {
   "cell_type": "code",
   "execution_count": null,
   "metadata": {},
   "outputs": [],
   "source": []
  },
  {
   "cell_type": "code",
   "execution_count": 57,
   "metadata": {},
   "outputs": [
    {
     "data": {
      "text/html": [
       "<div>\n",
       "<style scoped>\n",
       "    .dataframe tbody tr th:only-of-type {\n",
       "        vertical-align: middle;\n",
       "    }\n",
       "\n",
       "    .dataframe tbody tr th {\n",
       "        vertical-align: top;\n",
       "    }\n",
       "\n",
       "    .dataframe thead th {\n",
       "        text-align: right;\n",
       "    }\n",
       "</style>\n",
       "<table border=\"1\" class=\"dataframe\">\n",
       "  <thead>\n",
       "    <tr style=\"text-align: right;\">\n",
       "      <th></th>\n",
       "      <th>Predicted nutrition</th>\n",
       "      <th>Predicted vegan</th>\n",
       "    </tr>\n",
       "  </thead>\n",
       "  <tbody>\n",
       "    <tr>\n",
       "      <th>Actual nutrition</th>\n",
       "      <td>1813</td>\n",
       "      <td>45</td>\n",
       "    </tr>\n",
       "    <tr>\n",
       "      <th>Actual vegan</th>\n",
       "      <td>145</td>\n",
       "      <td>1055</td>\n",
       "    </tr>\n",
       "  </tbody>\n",
       "</table>\n",
       "</div>"
      ],
      "text/plain": [
       "                  Predicted nutrition  Predicted vegan\n",
       "Actual nutrition                 1813               45\n",
       "Actual vegan                      145             1055"
      ]
     },
     "execution_count": 57,
     "metadata": {},
     "output_type": "execute_result"
    }
   ],
   "source": [
    "# to make confusion matrix look nicer: \n",
    "col_names = ['Predicted ' + i for i in df['target'].value_counts().index]\n",
    "index_names = ['Actual ' + i for i in df['target'].value_counts().index]\n",
    "cm = pd.DataFrame(confusion_matrix(y_test, preds), columns = col_names, index = index_names )\n",
    "cm"
   ]
  },
  {
   "cell_type": "markdown",
   "metadata": {},
   "source": [
    "# obtain coefficients of the winning model and visualize them by plotting"
   ]
  },
  {
   "cell_type": "code",
   "execution_count": 39,
   "metadata": {},
   "outputs": [
    {
     "data": {
      "text/plain": [
       "array([[-0.92897269,  0.64556961, -0.06555062, ...,  0.02099417,\n",
       "         0.02099417,  0.02099417]])"
      ]
     },
     "execution_count": 39,
     "metadata": {},
     "output_type": "execute_result"
    }
   ],
   "source": [
    "tf_log_gs.best_estimator_.steps[1][1].coef_ # same as logreg.coef_"
   ]
  },
  {
   "cell_type": "code",
   "execution_count": 40,
   "metadata": {},
   "outputs": [
    {
     "data": {
      "text/html": [
       "<div>\n",
       "<style scoped>\n",
       "    .dataframe tbody tr th:only-of-type {\n",
       "        vertical-align: middle;\n",
       "    }\n",
       "\n",
       "    .dataframe tbody tr th {\n",
       "        vertical-align: top;\n",
       "    }\n",
       "\n",
       "    .dataframe thead th {\n",
       "        text-align: right;\n",
       "    }\n",
       "</style>\n",
       "<table border=\"1\" class=\"dataframe\">\n",
       "  <thead>\n",
       "    <tr style=\"text-align: right;\">\n",
       "      <th></th>\n",
       "      <th>0</th>\n",
       "      <th>abs</th>\n",
       "    </tr>\n",
       "  </thead>\n",
       "  <tbody>\n",
       "    <tr>\n",
       "      <th>nutrition</th>\n",
       "      <td>-16.136241</td>\n",
       "      <td>16.136241</td>\n",
       "    </tr>\n",
       "    <tr>\n",
       "      <th>healthy</th>\n",
       "      <td>-12.046182</td>\n",
       "      <td>12.046182</td>\n",
       "    </tr>\n",
       "    <tr>\n",
       "      <th>true</th>\n",
       "      <td>-10.093898</td>\n",
       "      <td>10.093898</td>\n",
       "    </tr>\n",
       "    <tr>\n",
       "      <th>calories</th>\n",
       "      <td>-9.656086</td>\n",
       "      <td>9.656086</td>\n",
       "    </tr>\n",
       "    <tr>\n",
       "      <th>subreddit</th>\n",
       "      <td>-8.969118</td>\n",
       "      <td>8.969118</td>\n",
       "    </tr>\n",
       "    <tr>\n",
       "      <th>exist</th>\n",
       "      <td>-8.531687</td>\n",
       "      <td>8.531687</td>\n",
       "    </tr>\n",
       "    <tr>\n",
       "      <th>nutritional</th>\n",
       "      <td>-7.592125</td>\n",
       "      <td>7.592125</td>\n",
       "    </tr>\n",
       "    <tr>\n",
       "      <th>healthier</th>\n",
       "      <td>-6.202305</td>\n",
       "      <td>6.202305</td>\n",
       "    </tr>\n",
       "    <tr>\n",
       "      <th>bad</th>\n",
       "      <td>-6.187752</td>\n",
       "      <td>6.187752</td>\n",
       "    </tr>\n",
       "    <tr>\n",
       "      <th>serving</th>\n",
       "      <td>-5.919852</td>\n",
       "      <td>5.919852</td>\n",
       "    </tr>\n",
       "    <tr>\n",
       "      <th>nutrients</th>\n",
       "      <td>-5.882517</td>\n",
       "      <td>5.882517</td>\n",
       "    </tr>\n",
       "    <tr>\n",
       "      <th>zinc</th>\n",
       "      <td>-5.839944</td>\n",
       "      <td>5.839944</td>\n",
       "    </tr>\n",
       "    <tr>\n",
       "      <th>carbohydrates</th>\n",
       "      <td>-5.769106</td>\n",
       "      <td>5.769106</td>\n",
       "    </tr>\n",
       "    <tr>\n",
       "      <th>carbs</th>\n",
       "      <td>-5.735660</td>\n",
       "      <td>5.735660</td>\n",
       "    </tr>\n",
       "    <tr>\n",
       "      <th>absorption</th>\n",
       "      <td>-5.723236</td>\n",
       "      <td>5.723236</td>\n",
       "    </tr>\n",
       "  </tbody>\n",
       "</table>\n",
       "</div>"
      ],
      "text/plain": [
       "                       0        abs\n",
       "nutrition     -16.136241  16.136241\n",
       "healthy       -12.046182  12.046182\n",
       "true          -10.093898  10.093898\n",
       "calories       -9.656086   9.656086\n",
       "subreddit      -8.969118   8.969118\n",
       "exist          -8.531687   8.531687\n",
       "nutritional    -7.592125   7.592125\n",
       "healthier      -6.202305   6.202305\n",
       "bad            -6.187752   6.187752\n",
       "serving        -5.919852   5.919852\n",
       "nutrients      -5.882517   5.882517\n",
       "zinc           -5.839944   5.839944\n",
       "carbohydrates  -5.769106   5.769106\n",
       "carbs          -5.735660   5.735660\n",
       "absorption     -5.723236   5.723236"
      ]
     },
     "execution_count": 40,
     "metadata": {},
     "output_type": "execute_result"
    }
   ],
   "source": [
    "# making coeficients into a dataframe to plot them\n",
    "coef_df = pd.DataFrame(logreg.coef_, columns = tf.get_feature_names()).T.sort_values(by = 0).head(15)\n",
    "coef_df['abs'] = coef_df[0].abs()\n",
    "coef_df.sort_values(by = 'abs', ascending = False).head(15)"
   ]
  },
  {
   "cell_type": "code",
   "execution_count": 41,
   "metadata": {
    "scrolled": true
   },
   "outputs": [
    {
     "data": {
      "image/png": "[encoded data removed]",
      "text/plain": [
       "<Figure size 720x360 with 1 Axes>"
      ]
     },
     "metadata": {
      "needs_background": "light"
     },
     "output_type": "display_data"
    }
   ],
   "source": [
    "# plotting most important coefficients: \n",
    "coef_df.sort_values(by = 'abs', ascending = False).head(15)[0].plot(kind = 'barh', figsize = (10,5), title = \"most \\\n",
    "important 15 coefficeints in the model, with respect to class: nutrition\".title(), fontsize = 15);"
   ]
  },
  {
   "cell_type": "markdown",
   "metadata": {},
   "source": [
    "# Create the image of the most common words for visual appeal"
   ]
  },
  {
   "cell_type": "code",
   "execution_count": 64,
   "metadata": {
    "scrolled": true
   },
   "outputs": [],
   "source": [
    "import wordcloud"
   ]
  },
  {
   "cell_type": "code",
   "execution_count": 65,
   "metadata": {},
   "outputs": [],
   "source": [
    "common_words = all_feature_df.sum().sort_values(ascending=False).head(20) # this is a series of words and their count\n",
    "list(common_words.index)\n",
    "common_words = ' '.join(list(common_words.index))"
   ]
  },
  {
   "cell_type": "code",
   "execution_count": 66,
   "metadata": {},
   "outputs": [
    {
     "data": {
      "image/png": "[encoded data removed]",
      "text/plain": [
       "<PIL.Image.Image image mode=RGB size=600x400 at 0x12838812850>"
      ]
     },
     "execution_count": 66,
     "metadata": {},
     "output_type": "execute_result"
    }
   ],
   "source": [
    "wc = wordcloud.WordCloud(background_color='yellow', max_words=75, width=600, height =400)\n",
    "# adding stop words will put only the stop words, not eliminate them.\n",
    "cloud = wc.generate(common_words)\n",
    "cloud.to_image()"
   ]
  }
 ],
 "metadata": {
  "kernelspec": {
   "display_name": "Python 3",
   "language": "python",
   "name": "python3"
  },
  "language_info": {
   "codemirror_mode": {
    "name": "ipython",
    "version": 3
   },
   "file_extension": ".py",
   "mimetype": "text/x-python",
   "name": "python",
   "nbconvert_exporter": "python",
   "pygments_lexer": "ipython3",
   "version": "3.8.5"
  }
 },
 "nbformat": 4,
 "nbformat_minor": 2
}
